{
 "cells": [
  {
   "cell_type": "code",
   "execution_count": 1,
   "metadata": {},
   "outputs": [
    {
     "name": "stderr",
     "output_type": "stream",
     "text": [
      "2022-09-22 20:50:23.265015: I tensorflow/stream_executor/platform/default/dso_loader.cc:53] Successfully opened dynamic library libcudart.so.11.0\n"
     ]
    }
   ],
   "source": [
    "import numpy as np\n",
    "from sklearn.feature_extraction.text import CountVectorizer\n",
    "import pandas as pd\n",
    "from sklearn.metrics import mean_squared_error, r2_score, mean_absolute_error\n",
    "from math import sqrt\n",
    "from sklearn.model_selection import train_test_split\n",
    "from tensorflow.keras.models import Sequential\n",
    "from tensorflow.keras.layers import Dense, Dropout\n",
    "import matplotlib.pyplot as plt\n",
    "from tensorflow.keras.optimizers import Adam\n",
    "from tensorflow import cast,float32\n",
    "from keras import backend as kb\n",
    "from statistics import mean, stdev"
   ]
  },
  {
   "cell_type": "code",
   "execution_count": 2,
   "metadata": {},
   "outputs": [],
   "source": [
    "def generate_kmer_multiple(seqlist,k):\n",
    "    kmer_list = []\n",
    "    n = -1\n",
    "    for seq in seqlist:\n",
    "        kmer_list.append(generate_kmer_single(seq,k))\n",
    "    return kmer_list\n",
    "    \n",
    "def generate_kmer_single(seq,k):\n",
    "    kmer = \"\"\n",
    "    for i in range(0,len(seq)-k,1):\n",
    "        kmer += seq[i:i+k]+\" \"\n",
    "    return kmer[:-1]\n",
    "\n",
    "def test_rmse(model,X_test,Y_test):\n",
    "    test_preds = model.predict(X_test)\n",
    "    mse = mean_squared_error(Y_test, test_preds)\n",
    "    rmse = sqrt(mse)\n",
    "    return rmse\n",
    "\n",
    "def root_mean_squared_error(y_true, y_pred):\n",
    "    y_true = cast(y_true,float32)\n",
    "    return kb.sqrt(kb.mean(kb.square(y_pred - y_true)))"
   ]
  },
  {
   "cell_type": "code",
   "execution_count": 3,
   "metadata": {},
   "outputs": [],
   "source": [
    "def read_region(region):\n",
    "    da = pd.read_csv(\"datasets/full_length_reads.csv\")\n",
    "    file_handle = open(\"datasets/\"+region+\".fasta\",\"r\")\n",
    "    seq = []\n",
    "    seqid = []\n",
    "    tmp_seq = \"\"\n",
    "    for line in file_handle:\n",
    "        if (line[0] == \">\"):\n",
    "            if tmp_seq != \"\":\n",
    "                seq.append(tmp_seq)\n",
    "            seqid.append(line.split(\"\\n\")[0][1:])\n",
    "            tmp_seq = \"\"\n",
    "        else:\n",
    "            tmp_seq+=line.split(\"\\n\")[0]\n",
    "    seq.append(tmp_seq)\n",
    "    file_handle.close()\n",
    "    sub = pd.DataFrame([seq,seqid], index = [region,\"accession\"])\n",
    "    sub = sub.transpose()\n",
    "    da = da[[\"accession\",\"copy_number\"]]\n",
    "    da = pd.merge(da,sub,on=\"accession\",how=\"inner\")\n",
    "    return da\n",
    "\n",
    "def split_test_train(da,i,multiplicand):\n",
    "    X_test = da[region][i*multiplicand:(i+1)*multiplicand]\n",
    "    Y_test = da['copy_number'][i*multiplicand:(i+1)*multiplicand]\n",
    "    X_train = pd.concat([da[region][0:i*multiplicand],da[region][(i+1)*multiplicand:]],axis = 0)\n",
    "    Y_train = pd.concat([da['copy_number'][0:i*multiplicand],da['copy_number'][(i+1)*multiplicand:]],axis = 0)\n",
    "    vectorizer = CountVectorizer()\n",
    "    X_train = pd.DataFrame(X_train)\n",
    "    X_test = pd.DataFrame(X_test)\n",
    "    X_train = X_train.values.reshape(X_train.shape[0], )\n",
    "    X_test = X_test.values.reshape(X_test.shape[0], )\n",
    "    kmer_train = generate_kmer_multiple(X_train.tolist(), 6)\n",
    "    kmer_test = generate_kmer_multiple(X_test.tolist(), 6)\n",
    "    X_train = vectorizer.fit_transform(kmer_train).toarray()\n",
    "    X_test = vectorizer.transform(kmer_test).toarray()\n",
    "    return X_train,Y_train,X_test,Y_test"
   ]
  },
  {
   "cell_type": "code",
   "execution_count": 4,
   "metadata": {},
   "outputs": [],
   "source": [
    "def create_model(region):\n",
    "    model=Sequential()\n",
    "    if region == \"full-length\":\n",
    "        model.add(Dense(512, activation='relu'))\n",
    "        model.add(Dense(256, activation='relu'))\n",
    "        model.add(Dense(128, activation='relu'))\n",
    "        model.add(Dense(64,activation='relu'))\n",
    "        model.add(Dense(16,activation='relu'))\n",
    "        model.add(Dense(8,activation='relu'))\n",
    "        model.add(Dense(1,activation='linear'))\n",
    "        model.compile(loss=root_mean_squared_error,optimizer=Adam(0.001))\n",
    "    else:\n",
    "        if region in [\"V1-V2\",\"V3-V4\"]:\n",
    "            model.add(Dense(1024, activation='relu'))\n",
    "            model.add(Dense(512, activation='relu'))\n",
    "            model.add(Dense(128, activation='relu'))\n",
    "            model.add(Dense(64,activation='relu'))\n",
    "            model.add(Dense(16,activation='relu'))\n",
    "            model.add(Dense(1,activation='linear'))\n",
    "        elif region in [\"V4-V5\"]:\n",
    "            model.add(Dense(1024, activation='relu'))\n",
    "            model.add(Dense(128, activation='relu'))\n",
    "            model.add(Dense(64,activation='relu'))\n",
    "            model.add(Dense(16,activation='relu'))\n",
    "            model.add(Dense(1,activation='linear'))\n",
    "        else:\n",
    "            model.add(Dense(512, activation='relu'))\n",
    "            if region not in [\"V6-V8\",\"V7-V9\"]:\n",
    "                model.add(Dense(256, activation='relu'))\n",
    "            model.add(Dense(128, activation='relu'))\n",
    "            model.add(Dense(64,activation='relu'))\n",
    "            model.add(Dense(16,activation='relu'))\n",
    "            model.add(Dense(1,activation='linear'))\n",
    "\n",
    "        if region in [\"V7-V9\"]:\n",
    "            model.compile(loss=root_mean_squared_error,optimizer=Adam(0.002))\n",
    "        else:\n",
    "            model.compile(loss=root_mean_squared_error,optimizer=Adam(0.001))\n",
    "\n",
    "    return model\n",
    "\n",
    "def fit_model(model,X_train,Y_train,region):\n",
    "    if region == \"full-length\":\n",
    "        model.fit(X_train,Y_train,validation_split=0.1, batch_size=100,epochs=50,verbose = 0)\n",
    "    elif region == \"V1-V2\":\n",
    "        model.fit(X_train,Y_train,validation_split=0.1,batch_size=128,epochs=50,verbose=0)\n",
    "    elif region == \"V1-V3\":\n",
    "        model.fit(X_train,Y_train,validation_split=0.1,batch_size=128,epochs=50,verbose=0)\n",
    "    elif region in [\"V3-V4\"]:\n",
    "        model.fit(X_train,Y_train,validation_split=0.1,batch_size=64,epochs=50,verbose=0)\n",
    "    elif region in [\"V4\"]:\n",
    "        model.fit(X_train,Y_train,validation_split=0.1,batch_size=100,epochs=30,verbose=0)\n",
    "    elif region in [\"V4-V5\"]:\n",
    "        model.fit(X_train,Y_train,validation_split=0.1,batch_size=64,epochs=50,verbose=0)\n",
    "    elif region in [\"V6-V8\",\"V7-V9\"]:\n",
    "        model.fit(X_train,Y_train,validation_split=0.1,batch_size=64,epochs=50,verbose=0)\n",
    "    return model"
   ]
  },
  {
   "cell_type": "code",
   "execution_count": 5,
   "metadata": {
    "scrolled": true,
    "tags": []
   },
   "outputs": [
    {
     "name": "stderr",
     "output_type": "stream",
     "text": [
      "2022-09-22 20:50:47.988003: I tensorflow/stream_executor/platform/default/dso_loader.cc:53] Successfully opened dynamic library libcuda.so.1\n",
      "2022-09-22 20:50:48.088436: I tensorflow/core/common_runtime/gpu/gpu_device.cc:1733] Found device 0 with properties: \n",
      "pciBusID: 0000:01:00.0 name: NVIDIA GeForce RTX 3090 computeCapability: 8.6\n",
      "coreClock: 1.695GHz coreCount: 82 deviceMemorySize: 23.70GiB deviceMemoryBandwidth: 871.81GiB/s\n",
      "2022-09-22 20:50:48.088484: I tensorflow/stream_executor/platform/default/dso_loader.cc:53] Successfully opened dynamic library libcudart.so.11.0\n",
      "2022-09-22 20:50:48.094118: I tensorflow/stream_executor/platform/default/dso_loader.cc:53] Successfully opened dynamic library libcublas.so.11\n",
      "2022-09-22 20:50:48.094189: I tensorflow/stream_executor/platform/default/dso_loader.cc:53] Successfully opened dynamic library libcublasLt.so.11\n",
      "2022-09-22 20:50:48.095078: I tensorflow/stream_executor/platform/default/dso_loader.cc:53] Successfully opened dynamic library libcufft.so.10\n",
      "2022-09-22 20:50:48.095316: I tensorflow/stream_executor/platform/default/dso_loader.cc:53] Successfully opened dynamic library libcurand.so.10\n",
      "2022-09-22 20:50:48.095930: I tensorflow/stream_executor/platform/default/dso_loader.cc:53] Successfully opened dynamic library libcusolver.so.11\n",
      "2022-09-22 20:50:48.096405: I tensorflow/stream_executor/platform/default/dso_loader.cc:53] Successfully opened dynamic library libcusparse.so.11\n",
      "2022-09-22 20:50:48.096533: I tensorflow/stream_executor/platform/default/dso_loader.cc:53] Successfully opened dynamic library libcudnn.so.8\n",
      "2022-09-22 20:50:48.098272: I tensorflow/core/common_runtime/gpu/gpu_device.cc:1871] Adding visible gpu devices: 0\n",
      "2022-09-22 20:50:48.098796: I tensorflow/core/platform/cpu_feature_guard.cc:142] This TensorFlow binary is optimized with oneAPI Deep Neural Network Library (oneDNN) to use the following CPU instructions in performance-critical operations:  AVX2 FMA\n",
      "To enable them in other operations, rebuild TensorFlow with the appropriate compiler flags.\n",
      "2022-09-22 20:50:48.104003: I tensorflow/core/common_runtime/gpu/gpu_device.cc:1733] Found device 0 with properties: \n",
      "pciBusID: 0000:01:00.0 name: NVIDIA GeForce RTX 3090 computeCapability: 8.6\n",
      "coreClock: 1.695GHz coreCount: 82 deviceMemorySize: 23.70GiB deviceMemoryBandwidth: 871.81GiB/s\n",
      "2022-09-22 20:50:48.105465: I tensorflow/core/common_runtime/gpu/gpu_device.cc:1871] Adding visible gpu devices: 0\n",
      "2022-09-22 20:50:48.105503: I tensorflow/stream_executor/platform/default/dso_loader.cc:53] Successfully opened dynamic library libcudart.so.11.0\n",
      "2022-09-22 20:50:48.538779: I tensorflow/core/common_runtime/gpu/gpu_device.cc:1258] Device interconnect StreamExecutor with strength 1 edge matrix:\n",
      "2022-09-22 20:50:48.538804: I tensorflow/core/common_runtime/gpu/gpu_device.cc:1264]      0 \n",
      "2022-09-22 20:50:48.538811: I tensorflow/core/common_runtime/gpu/gpu_device.cc:1277] 0:   N \n",
      "2022-09-22 20:50:48.541801: I tensorflow/core/common_runtime/gpu/gpu_device.cc:1418] Created TensorFlow device (/job:localhost/replica:0/task:0/device:GPU:0 with 22318 MB memory) -> physical GPU (device: 0, name: NVIDIA GeForce RTX 3090, pci bus id: 0000:01:00.0, compute capability: 8.6)\n",
      "2022-09-22 20:50:49.215486: I tensorflow/compiler/mlir/mlir_graph_optimization_pass.cc:176] None of the MLIR Optimization Passes are enabled (registered 2)\n",
      "2022-09-22 20:50:49.218115: I tensorflow/core/platform/profile_utils/cpu_utils.cc:114] CPU Frequency: 2794665000 Hz\n",
      "2022-09-22 20:50:49.789224: I tensorflow/stream_executor/platform/default/dso_loader.cc:53] Successfully opened dynamic library libcublas.so.11\n",
      "2022-09-22 20:50:50.622981: I tensorflow/stream_executor/platform/default/dso_loader.cc:53] Successfully opened dynamic library libcublasLt.so.11\n",
      "2022-09-22 20:50:50.623031: I tensorflow/stream_executor/cuda/cuda_blas.cc:1838] TensorFloat-32 will be used for the matrix multiplication. This will only be logged once.\n"
     ]
    }
   ],
   "source": [
    "# V1-V2 done\n",
    "# V1-V3 done\n",
    "# V3-V4 done\n",
    "# V4 done\n",
    "# V4-V5 almost\n",
    "# V6-V8 done\n",
    "# V7-V9 done\n",
    "performance = {}\n",
    "for region in [\"full-length\",\"V1-V2\",\"V1-V3\",\"V3-V4\",\"V4\",\"V4-V5\",\"V6-V8\",\"V7-V9\"]:\n",
    "# for region in [\"V4-V5\"]:\n",
    "    rmse = []\n",
    "    da = read_region(region)\n",
    "    multiplicand = int(da.shape[0]*0.2)+1\n",
    "    for i in range(0,5,1):\n",
    "        X_train,Y_train,X_test,Y_test=split_test_train(da,i,multiplicand)\n",
    "        model = create_model(region)\n",
    "        model = fit_model(model,X_train,Y_train,region)\n",
    "        pred = model.predict(X_test)\n",
    "        output = pd.DataFrame([pred.reshape(pred.shape[0]),Y_test],index = [\"Y_pred\",\"Y_test\"])\n",
    "        output = output.transpose()\n",
    "        output[\"region\"] = region\n",
    "        output[\"group\"] = i\n",
    "        output.to_csv(\"results/results_\"+region+\"_\"+str(i)+\".csv\",index = False)\n",
    "        mse = mean_squared_error(Y_test, pred)\n",
    "        rmse.append(sqrt(mse))\n",
    "    performance[region] = rmse"
   ]
  },
  {
   "cell_type": "code",
   "execution_count": 6,
   "metadata": {},
   "outputs": [
    {
     "data": {
      "text/plain": [
       "full-length    0.743451\n",
       "V1-V2          0.797873\n",
       "V1-V3          0.775106\n",
       "V3-V4          0.781168\n",
       "V4             0.812749\n",
       "V4-V5          0.788746\n",
       "V6-V8          0.785031\n",
       "V7-V9          0.793758\n",
       "dtype: float64"
      ]
     },
     "execution_count": 6,
     "metadata": {},
     "output_type": "execute_result"
    }
   ],
   "source": [
    "pd.DataFrame(performance).mean(axis = 0)"
   ]
  },
  {
   "cell_type": "code",
   "execution_count": 7,
   "metadata": {},
   "outputs": [],
   "source": [
    "pd.DataFrame(performance).to_csv(\"MLP_method3.csv\",index=False)"
   ]
  },
  {
   "cell_type": "code",
   "execution_count": null,
   "metadata": {},
   "outputs": [],
   "source": [
    "import os\n",
    "files = os.listdir(\"results\")\n",
    "results = pd.read_csv('results/results_full-length_0.csv')\n",
    "for file in files[1:]:\n",
    "    tmp = pd.read_csv(\"results/\"+file)\n",
    "    results = pd.concat([results,tmp],axis = 0)\n",
    "results.to_csv(\"performance/results.csv\",index=False)"
   ]
  },
  {
   "cell_type": "code",
   "execution_count": null,
   "metadata": {},
   "outputs": [],
   "source": []
  }
 ],
 "metadata": {
  "kernelspec": {
   "display_name": "Python 3",
   "language": "python",
   "name": "python3"
  },
  "language_info": {
   "codemirror_mode": {
    "name": "ipython",
    "version": 3
   },
   "file_extension": ".py",
   "mimetype": "text/x-python",
   "name": "python",
   "nbconvert_exporter": "python",
   "pygments_lexer": "ipython3",
   "version": "3.8.5"
  }
 },
 "nbformat": 4,
 "nbformat_minor": 4
}
