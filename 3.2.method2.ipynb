{
 "cells": [
  {
   "cell_type": "code",
   "execution_count": 1,
   "metadata": {},
   "outputs": [
    {
     "name": "stderr",
     "output_type": "stream",
     "text": [
      "2022-08-24 14:49:02.265346: I tensorflow/stream_executor/platform/default/dso_loader.cc:53] Successfully opened dynamic library libcudart.so.11.0\n"
     ]
    }
   ],
   "source": [
    "import numpy as np\n",
    "import pandas as pd\n",
    "import random\n",
    "\n",
    "import matplotlib.pyplot as plt\n",
    "import collections\n",
    "import tensorflow as tf\n",
    "from tensorflow import keras\n",
    "from tensorflow.keras import layers\n",
    "from tensorflow.keras.optimizers import Adam\n",
    "from math import sqrt\n",
    "from sklearn.feature_extraction.text import CountVectorizer\n",
    "import textwrap\n",
    "from tensorflow.keras.models import Sequential\n",
    "from tensorflow.keras.layers import Dense, Dropout\n",
    "from tensorflow import cast,float32\n",
    "from keras import backend as kb\n",
    "from statistics import mean, stdev\n",
    "from sklearn.metrics import mean_squared_error\n",
    "from sklearn.model_selection import StratifiedKFold, KFold"
   ]
  },
  {
   "cell_type": "code",
   "execution_count": 2,
   "metadata": {},
   "outputs": [],
   "source": [
    "def augment_mlp(x,y):\n",
    "    seq_list = []\n",
    "    count_list = []\n",
    "    for i in range(0,len(x)):\n",
    "        split = textwrap.wrap(x[i], width=101)\n",
    "        seq_list.append(split)\n",
    "        count_list.append([y[i],]*len(split))\n",
    "    seq_list = sum(seq_list,[])\n",
    "    count_list = sum(count_list,[])\n",
    "    x = build_kmers_mlp(seq_list, 6)\n",
    "    y = np.array(count_list)\n",
    "    x = np.array(x)\n",
    "    return x,y\n",
    "\n",
    "def build_kmers_mlp(x, k):\n",
    "    kmer_arr = []\n",
    "    for seq in x:\n",
    "        \n",
    "        kmers = ''\n",
    "        n_kmers = len(seq) - k + 1\n",
    "\n",
    "        for i in range(0,n_kmers):\n",
    "            kmer = seq[i:i + k]\n",
    "            kmers += kmer + ' '\n",
    "\n",
    "        kmer_arr.append(kmers)\n",
    "     \n",
    "    return kmer_arr\n",
    "\n",
    "def create_model_mlp():\n",
    "    model=Sequential()\n",
    "    model.add(Dense(512, activation='relu'))\n",
    "    model.add(Dense(256, activation='relu'))\n",
    "    model.add(Dense(128, activation='relu'))\n",
    "    model.add(Dense(64,activation='relu'))\n",
    "    model.add(Dense(16,activation='relu'))\n",
    "    model.add(Dense(8,activation='relu'))\n",
    "    model.add(Dense(1,activation='linear'))\n",
    "    model.compile(loss=root_mean_squared_error,optimizer=Adam(0.001))\n",
    "    return model\n",
    "\n",
    "def test_rmse(model,X_test,Y_test):\n",
    "    test_preds = model.predict(X_test)\n",
    "    mse = mean_squared_error(Y_test, test_preds)\n",
    "    rmse = sqrt(mse)\n",
    "    return rmse\n",
    "\n",
    "def root_mean_squared_error(y_true, y_pred):\n",
    "    y_true = cast(y_true,float32)\n",
    "    return kb.sqrt(kb.mean(kb.square(y_pred - y_true)))"
   ]
  },
  {
   "cell_type": "code",
   "execution_count": 3,
   "metadata": {},
   "outputs": [],
   "source": [
    "data =pd.read_csv(\"~/autodl-tmp/full_length_reads.csv\")\n",
    "X = data['sequence']\n",
    "Y = data['copy_number']"
   ]
  },
  {
   "cell_type": "markdown",
   "metadata": {},
   "source": [
    "## Self Cross-validation"
   ]
  },
  {
   "cell_type": "code",
   "execution_count": 4,
   "metadata": {},
   "outputs": [],
   "source": [
    "multiplicand = int(X.shape[0]*0.2)\n",
    "X_list = []\n",
    "Y_list = []\n",
    "for i in range(0,5,1):\n",
    "    X_list.append(X[i*multiplicand:(i+1)*multiplicand])\n",
    "    Y_list.append(Y[i*multiplicand:(i+1)*multiplicand])"
   ]
  },
  {
   "cell_type": "code",
   "execution_count": 5,
   "metadata": {
    "scrolled": true,
    "tags": []
   },
   "outputs": [
    {
     "name": "stderr",
     "output_type": "stream",
     "text": [
      "2022-08-24 14:50:07.549325: I tensorflow/stream_executor/platform/default/dso_loader.cc:53] Successfully opened dynamic library libcuda.so.1\n",
      "2022-08-24 14:50:07.673594: I tensorflow/core/common_runtime/gpu/gpu_device.cc:1733] Found device 0 with properties: \n",
      "pciBusID: 0000:41:00.0 name: NVIDIA GeForce RTX 3090 computeCapability: 8.6\n",
      "coreClock: 1.695GHz coreCount: 82 deviceMemorySize: 23.70GiB deviceMemoryBandwidth: 871.81GiB/s\n",
      "2022-08-24 14:50:07.673634: I tensorflow/stream_executor/platform/default/dso_loader.cc:53] Successfully opened dynamic library libcudart.so.11.0\n",
      "2022-08-24 14:50:07.677256: I tensorflow/stream_executor/platform/default/dso_loader.cc:53] Successfully opened dynamic library libcublas.so.11\n",
      "2022-08-24 14:50:07.677295: I tensorflow/stream_executor/platform/default/dso_loader.cc:53] Successfully opened dynamic library libcublasLt.so.11\n",
      "2022-08-24 14:50:07.678024: I tensorflow/stream_executor/platform/default/dso_loader.cc:53] Successfully opened dynamic library libcufft.so.10\n",
      "2022-08-24 14:50:07.678243: I tensorflow/stream_executor/platform/default/dso_loader.cc:53] Successfully opened dynamic library libcurand.so.10\n",
      "2022-08-24 14:50:07.678867: I tensorflow/stream_executor/platform/default/dso_loader.cc:53] Successfully opened dynamic library libcusolver.so.11\n",
      "2022-08-24 14:50:07.679363: I tensorflow/stream_executor/platform/default/dso_loader.cc:53] Successfully opened dynamic library libcusparse.so.11\n",
      "2022-08-24 14:50:07.679496: I tensorflow/stream_executor/platform/default/dso_loader.cc:53] Successfully opened dynamic library libcudnn.so.8\n",
      "2022-08-24 14:50:07.682173: I tensorflow/core/common_runtime/gpu/gpu_device.cc:1871] Adding visible gpu devices: 0\n",
      "2022-08-24 14:50:07.682749: I tensorflow/core/platform/cpu_feature_guard.cc:142] This TensorFlow binary is optimized with oneAPI Deep Neural Network Library (oneDNN) to use the following CPU instructions in performance-critical operations:  AVX2 FMA\n",
      "To enable them in other operations, rebuild TensorFlow with the appropriate compiler flags.\n",
      "2022-08-24 14:50:07.687734: I tensorflow/core/common_runtime/gpu/gpu_device.cc:1733] Found device 0 with properties: \n",
      "pciBusID: 0000:41:00.0 name: NVIDIA GeForce RTX 3090 computeCapability: 8.6\n",
      "coreClock: 1.695GHz coreCount: 82 deviceMemorySize: 23.70GiB deviceMemoryBandwidth: 871.81GiB/s\n",
      "2022-08-24 14:50:07.689062: I tensorflow/core/common_runtime/gpu/gpu_device.cc:1871] Adding visible gpu devices: 0\n",
      "2022-08-24 14:50:07.689093: I tensorflow/stream_executor/platform/default/dso_loader.cc:53] Successfully opened dynamic library libcudart.so.11.0\n",
      "2022-08-24 14:50:08.141126: I tensorflow/core/common_runtime/gpu/gpu_device.cc:1258] Device interconnect StreamExecutor with strength 1 edge matrix:\n",
      "2022-08-24 14:50:08.141152: I tensorflow/core/common_runtime/gpu/gpu_device.cc:1264]      0 \n",
      "2022-08-24 14:50:08.141159: I tensorflow/core/common_runtime/gpu/gpu_device.cc:1277] 0:   N \n",
      "2022-08-24 14:50:08.145281: I tensorflow/core/common_runtime/gpu/gpu_device.cc:1418] Created TensorFlow device (/job:localhost/replica:0/task:0/device:GPU:0 with 22318 MB memory) -> physical GPU (device: 0, name: NVIDIA GeForce RTX 3090, pci bus id: 0000:41:00.0, compute capability: 8.6)\n",
      "2022-08-24 14:50:08.447793: W tensorflow/core/framework/cpu_allocator_impl.cc:80] Allocation of 7925245344 exceeds 10% of free system memory.\n",
      "2022-08-24 14:50:12.376386: I tensorflow/compiler/mlir/mlir_graph_optimization_pass.cc:176] None of the MLIR Optimization Passes are enabled (registered 2)\n",
      "2022-08-24 14:50:12.378407: I tensorflow/core/platform/profile_utils/cpu_utils.cc:114] CPU Frequency: 2794690000 Hz\n",
      "2022-08-24 14:50:13.005536: I tensorflow/stream_executor/platform/default/dso_loader.cc:53] Successfully opened dynamic library libcublas.so.11\n",
      "2022-08-24 14:50:13.876137: I tensorflow/stream_executor/platform/default/dso_loader.cc:53] Successfully opened dynamic library libcublasLt.so.11\n",
      "2022-08-24 14:50:13.876199: I tensorflow/stream_executor/cuda/cuda_blas.cc:1838] TensorFloat-32 will be used for the matrix multiplication. This will only be logged once.\n"
     ]
    },
    {
     "name": "stdout",
     "output_type": "stream",
     "text": [
      "0.9545984754140131\n"
     ]
    },
    {
     "name": "stderr",
     "output_type": "stream",
     "text": [
      "2022-08-24 14:53:09.410224: W tensorflow/core/framework/cpu_allocator_impl.cc:80] Allocation of 7607245544 exceeds 10% of free system memory.\n"
     ]
    },
    {
     "name": "stdout",
     "output_type": "stream",
     "text": [
      "0.9911909684538481\n"
     ]
    },
    {
     "name": "stderr",
     "output_type": "stream",
     "text": [
      "2022-08-24 14:55:59.906060: W tensorflow/core/framework/cpu_allocator_impl.cc:80] Allocation of 7845519280 exceeds 10% of free system memory.\n"
     ]
    },
    {
     "name": "stdout",
     "output_type": "stream",
     "text": [
      "0.9380719422125862\n"
     ]
    },
    {
     "name": "stderr",
     "output_type": "stream",
     "text": [
      "2022-08-24 14:58:53.818267: W tensorflow/core/framework/cpu_allocator_impl.cc:80] Allocation of 7799767680 exceeds 10% of free system memory.\n"
     ]
    },
    {
     "name": "stdout",
     "output_type": "stream",
     "text": [
      "0.9805189293141714\n"
     ]
    },
    {
     "name": "stderr",
     "output_type": "stream",
     "text": [
      "2022-08-24 15:02:18.180420: W tensorflow/core/framework/cpu_allocator_impl.cc:80] Allocation of 7888320896 exceeds 10% of free system memory.\n"
     ]
    },
    {
     "name": "stdout",
     "output_type": "stream",
     "text": [
      "0.9598807748314199\n"
     ]
    }
   ],
   "source": [
    "rmse = []\n",
    "for i in range(0,5,1):\n",
    "    X_test = X_list[i]\n",
    "    Y_test = Y_list[i]\n",
    "    X_train = []\n",
    "    Y_train = []\n",
    "    for j in range(0,5,1):\n",
    "        if j != i:\n",
    "            X_train.append(X_list[j])\n",
    "            Y_train.append(Y_list[j])\n",
    "    X_train = pd.concat(X_train,axis = 0)\n",
    "    Y_train = pd.concat(Y_train,axis = 0)\n",
    "    x_train,y_train = augment_mlp(X_train.tolist(),Y_train.tolist())\n",
    "    x_test,y_test = augment_mlp(X_test.tolist(),Y_test.tolist())\n",
    "    vectorizer = CountVectorizer(lowercase=False)\n",
    "    x_train = vectorizer.fit_transform(x_train).toarray()\n",
    "    x_test = vectorizer.transform(x_test).toarray()\n",
    "    model = create_model_mlp()\n",
    "    model.fit(x_train,y_train,validation_split=0.1, batch_size=100,epochs=20,verbose = 0)\n",
    "    rmse.append(test_rmse(model,x_test,y_test))\n",
    "    print(rmse[i])"
   ]
  },
  {
   "cell_type": "code",
   "execution_count": 6,
   "metadata": {},
   "outputs": [
    {
     "data": {
      "text/plain": [
       "[0.9545984754140131,\n",
       " 0.9911909684538481,\n",
       " 0.9380719422125862,\n",
       " 0.9805189293141714,\n",
       " 0.9598807748314199]"
      ]
     },
     "execution_count": 6,
     "metadata": {},
     "output_type": "execute_result"
    }
   ],
   "source": [
    "rmse"
   ]
  },
  {
   "cell_type": "code",
   "execution_count": 10,
   "metadata": {},
   "outputs": [],
   "source": [
    "pd.DataFrame(rmse,columns=[\"method2_self_cv\"]).to_csv(\"performance/MLP_method2_train.csv\",index=False)"
   ]
  },
  {
   "cell_type": "markdown",
   "metadata": {},
   "source": [
    "## Tests on Subregions"
   ]
  },
  {
   "cell_type": "code",
   "execution_count": 17,
   "metadata": {
    "scrolled": true,
    "tags": []
   },
   "outputs": [
    {
     "name": "stdout",
     "output_type": "stream",
     "text": [
      "Epoch 1/20\n",
      "2659/2659 [==============================] - 9s 3ms/step - loss: 1.2610 - val_loss: 1.0236\n",
      "Epoch 2/20\n",
      "2659/2659 [==============================] - 8s 3ms/step - loss: 1.0066 - val_loss: 0.9620\n",
      "Epoch 3/20\n",
      "2659/2659 [==============================] - 9s 3ms/step - loss: 0.9318 - val_loss: 0.9429\n",
      "Epoch 4/20\n",
      "2659/2659 [==============================] - 9s 3ms/step - loss: 0.8877 - val_loss: 0.9291\n",
      "Epoch 5/20\n",
      "2659/2659 [==============================] - 8s 3ms/step - loss: 0.8577 - val_loss: 0.8966\n",
      "Epoch 6/20\n",
      "2659/2659 [==============================] - 8s 3ms/step - loss: 0.8363 - val_loss: 0.8863\n",
      "Epoch 7/20\n",
      "2659/2659 [==============================] - 8s 3ms/step - loss: 0.8195 - val_loss: 0.8853\n",
      "Epoch 8/20\n",
      "2659/2659 [==============================] - 7s 3ms/step - loss: 0.8074 - val_loss: 0.8651\n",
      "Epoch 9/20\n",
      "2659/2659 [==============================] - 7s 3ms/step - loss: 0.7968 - val_loss: 0.8681\n",
      "Epoch 10/20\n",
      "2659/2659 [==============================] - 7s 3ms/step - loss: 0.7861 - val_loss: 0.8657\n",
      "Epoch 11/20\n",
      "2659/2659 [==============================] - 7s 3ms/step - loss: 0.7781 - val_loss: 0.8675\n",
      "Epoch 12/20\n",
      "2659/2659 [==============================] - 7s 3ms/step - loss: 0.7717 - val_loss: 0.8591\n",
      "Epoch 13/20\n",
      "2659/2659 [==============================] - 7s 3ms/step - loss: 0.7667 - val_loss: 0.8819\n",
      "Epoch 14/20\n",
      "2659/2659 [==============================] - 7s 3ms/step - loss: 0.7619 - val_loss: 0.8670\n",
      "Epoch 15/20\n",
      "2659/2659 [==============================] - 7s 3ms/step - loss: 0.7556 - val_loss: 0.8566\n",
      "Epoch 16/20\n",
      "2659/2659 [==============================] - 7s 3ms/step - loss: 0.7532 - val_loss: 0.8551\n",
      "Epoch 17/20\n",
      "2659/2659 [==============================] - 7s 3ms/step - loss: 0.7506 - val_loss: 0.8541\n",
      "Epoch 18/20\n",
      "2659/2659 [==============================] - 7s 3ms/step - loss: 0.7448 - val_loss: 0.8470\n",
      "Epoch 19/20\n",
      "2659/2659 [==============================] - 7s 3ms/step - loss: 0.7420 - val_loss: 0.8545\n",
      "Epoch 20/20\n",
      "2659/2659 [==============================] - 7s 3ms/step - loss: 0.7393 - val_loss: 0.8519\n"
     ]
    },
    {
     "data": {
      "text/plain": [
       "<tensorflow.python.keras.callbacks.History at 0x7f21d53eee50>"
      ]
     },
     "execution_count": 17,
     "metadata": {},
     "output_type": "execute_result"
    }
   ],
   "source": [
    "data =pd.read_csv(\"datasets/full_length_reads.csv\")\n",
    "X = data['sequence']\n",
    "Y = data['copy_number']\n",
    "x,y = augment_mlp(X.tolist(),Y.tolist())\n",
    "vectorizer = CountVectorizer(lowercase=False)\n",
    "x = vectorizer.fit_transform(x).toarray()\n",
    "model = create_model_mlp()\n",
    "model.fit(x,y,validation_split=0.1, batch_size=100,epochs=20,verbose = 1)"
   ]
  },
  {
   "cell_type": "code",
   "execution_count": 12,
   "metadata": {},
   "outputs": [],
   "source": [
    "def read_region(region):\n",
    "    da = pd.read_csv(\"datasets/full_length_reads.csv\")\n",
    "    file_handle = open(\"datasets/\"+region+\".fasta\",\"r\")\n",
    "    seq = []\n",
    "    seqid = []\n",
    "    tmp_seq = \"\"\n",
    "    for line in file_handle:\n",
    "        if (line[0] == \">\"):\n",
    "            if tmp_seq != \"\":\n",
    "                seq.append(tmp_seq)\n",
    "            seqid.append(line.split(\"\\n\")[0][1:])\n",
    "            tmp_seq = \"\"\n",
    "        else:\n",
    "            tmp_seq+=line.split(\"\\n\")[0]\n",
    "    seq.append(tmp_seq)\n",
    "    file_handle.close()\n",
    "    sub = pd.DataFrame([seq,seqid], index = [region,\"accession\"])\n",
    "    sub = sub.transpose()\n",
    "    da = da[[\"accession\",\"copy_number\"]]\n",
    "    da = pd.merge(da,sub,on=\"accession\",how=\"inner\")\n",
    "    return da"
   ]
  },
  {
   "cell_type": "code",
   "execution_count": 29,
   "metadata": {},
   "outputs": [
    {
     "name": "stdout",
     "output_type": "stream",
     "text": [
      "1.4043640492140774\n",
      "1.2573387532066091\n",
      "1.912700622972369\n",
      "1.281319887533199\n",
      "1.8633085289178444\n",
      "1.3818691236873073\n",
      "2.238917277959003\n"
     ]
    }
   ],
   "source": [
    "performance = {}\n",
    "for region in [\"V1-V2\",\"V1-V3\",\"V3-V4\",\"V4\",\"V4-V5\",\"V6-V8\",\"V7-V9\"]:\n",
    "    da = read_region(region)\n",
    "    X = da[region]\n",
    "    Y = da['copy_number']\n",
    "    x,y = augment_mlp(X.tolist(),Y.tolist())\n",
    "    x = vectorizer.transform(x).toarray()\n",
    "    res = test_rmse(model,x,y)\n",
    "    print(res)\n",
    "    performance[region] = res"
   ]
  },
  {
   "cell_type": "code",
   "execution_count": 30,
   "metadata": {},
   "outputs": [
    {
     "data": {
      "text/html": [
       "<div>\n",
       "<style scoped>\n",
       "    .dataframe tbody tr th:only-of-type {\n",
       "        vertical-align: middle;\n",
       "    }\n",
       "\n",
       "    .dataframe tbody tr th {\n",
       "        vertical-align: top;\n",
       "    }\n",
       "\n",
       "    .dataframe thead th {\n",
       "        text-align: right;\n",
       "    }\n",
       "</style>\n",
       "<table border=\"1\" class=\"dataframe\">\n",
       "  <thead>\n",
       "    <tr style=\"text-align: right;\">\n",
       "      <th></th>\n",
       "      <th>test</th>\n",
       "      <th>rmse</th>\n",
       "    </tr>\n",
       "  </thead>\n",
       "  <tbody>\n",
       "    <tr>\n",
       "      <th>0</th>\n",
       "      <td>V1-V2</td>\n",
       "      <td>1.404364</td>\n",
       "    </tr>\n",
       "    <tr>\n",
       "      <th>1</th>\n",
       "      <td>V1-V3</td>\n",
       "      <td>1.257339</td>\n",
       "    </tr>\n",
       "    <tr>\n",
       "      <th>2</th>\n",
       "      <td>V3-V4</td>\n",
       "      <td>1.912701</td>\n",
       "    </tr>\n",
       "    <tr>\n",
       "      <th>3</th>\n",
       "      <td>V4</td>\n",
       "      <td>1.28132</td>\n",
       "    </tr>\n",
       "    <tr>\n",
       "      <th>4</th>\n",
       "      <td>V4-V5</td>\n",
       "      <td>1.863309</td>\n",
       "    </tr>\n",
       "    <tr>\n",
       "      <th>5</th>\n",
       "      <td>V6-V8</td>\n",
       "      <td>1.381869</td>\n",
       "    </tr>\n",
       "    <tr>\n",
       "      <th>6</th>\n",
       "      <td>V7-V9</td>\n",
       "      <td>2.238917</td>\n",
       "    </tr>\n",
       "  </tbody>\n",
       "</table>\n",
       "</div>"
      ],
      "text/plain": [
       "    test      rmse\n",
       "0  V1-V2  1.404364\n",
       "1  V1-V3  1.257339\n",
       "2  V3-V4  1.912701\n",
       "3     V4   1.28132\n",
       "4  V4-V5  1.863309\n",
       "5  V6-V8  1.381869\n",
       "6  V7-V9  2.238917"
      ]
     },
     "execution_count": 30,
     "metadata": {},
     "output_type": "execute_result"
    }
   ],
   "source": [
    "pd.DataFrame([list(performance.keys()),list(performance.values())],index = [\"test\",\"rmse\"]).transpose()"
   ]
  },
  {
   "cell_type": "code",
   "execution_count": 31,
   "metadata": {},
   "outputs": [],
   "source": [
    "pd.DataFrame([list(performance.keys()),list(performance.values())],index = [\"test\",\"rmse\"]).transpose().to_csv(\"performance/MLP_method2_test.csv\",index=False)"
   ]
  },
  {
   "cell_type": "code",
   "execution_count": null,
   "metadata": {},
   "outputs": [],
   "source": []
  }
 ],
 "metadata": {
  "kernelspec": {
   "display_name": "Python 3",
   "language": "python",
   "name": "python3"
  },
  "language_info": {
   "codemirror_mode": {
    "name": "ipython",
    "version": 3
   },
   "file_extension": ".py",
   "mimetype": "text/x-python",
   "name": "python",
   "nbconvert_exporter": "python",
   "pygments_lexer": "ipython3",
   "version": "3.8.5"
  }
 },
 "nbformat": 4,
 "nbformat_minor": 5
}
