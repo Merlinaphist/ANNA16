{
 "cells": [
  {
   "cell_type": "code",
   "execution_count": 1,
   "metadata": {},
   "outputs": [],
   "source": [
    "import numpy as np\n",
    "from sklearn.feature_extraction.text import CountVectorizer\n",
    "import pandas as pd\n",
    "from sklearn.metrics import mean_squared_error\n",
    "from math import sqrt\n",
    "from sklearn.model_selection import train_test_split\n",
    "from tensorflow.keras.models import Sequential\n",
    "from tensorflow.keras.layers import Dense, Dropout\n",
    "import matplotlib.pyplot as plt\n",
    "from tensorflow.keras.optimizers import Adam\n",
    "from tensorflow import cast,float32\n",
    "from keras import backend as kb\n",
    "from statistics import mean, stdev"
   ]
  },
  {
   "cell_type": "code",
   "execution_count": 2,
   "metadata": {},
   "outputs": [],
   "source": [
    "def generate_kmer_multiple(seqlist,k):\n",
    "    kmer_list = []\n",
    "    n = -1\n",
    "    for seq in seqlist:\n",
    "        kmer_list.append(generate_kmer_single(seq,k))\n",
    "    return kmer_list\n",
    "    \n",
    "def generate_kmer_single(seq,k):\n",
    "    kmer = \"\"\n",
    "    for i in range(0,len(seq)-k,1):\n",
    "        kmer += seq[i:i+k]+\" \"\n",
    "    return kmer[:-1]\n",
    "\n",
    "def test_rmse(model,X_test,Y_test):\n",
    "    test_preds = model.predict(X_test)\n",
    "    mse = mean_squared_error(Y_test, test_preds)\n",
    "    rmse = sqrt(mse)\n",
    "    return rmse\n",
    "\n",
    "def root_mean_squared_error(y_true, y_pred):\n",
    "    y_true = cast(y_true,float32)\n",
    "    return kb.sqrt(kb.mean(kb.square(y_pred - y_true)))"
   ]
  },
  {
   "cell_type": "code",
   "execution_count": 3,
   "metadata": {},
   "outputs": [],
   "source": [
    "def create_model():\n",
    "    model=Sequential()\n",
    "    model.add(Dense(512, activation='relu'))\n",
    "    model.add(Dense(256, activation='relu'))\n",
    "    model.add(Dense(128, activation='relu'))\n",
    "    model.add(Dense(64,activation='relu'))\n",
    "    model.add(Dense(16,activation='relu'))\n",
    "    model.add(Dense(8,activation='relu'))\n",
    "    model.add(Dense(1,activation='linear'))\n",
    "    model.compile(loss=root_mean_squared_error,optimizer=Adam(0.001))\n",
    "    return model"
   ]
  },
  {
   "cell_type": "code",
   "execution_count": 4,
   "metadata": {},
   "outputs": [],
   "source": [
    "da = pd.read_csv(\"datasets/full_length_reads.csv\")\n",
    "X = da[\"sequence\"]\n",
    "Y = da[\"copy_number\"]"
   ]
  },
  {
   "cell_type": "code",
   "execution_count": 6,
   "metadata": {},
   "outputs": [],
   "source": [
    "multiplicand = int(X.shape[0]*0.2)\n",
    "X_list = []\n",
    "Y_list = []\n",
    "for i in range(0,5,1):\n",
    "    X_list.append(X[i*multiplicand:(i+1)*multiplicand])\n",
    "    Y_list.append(Y[i*multiplicand:(i+1)*multiplicand])"
   ]
  },
  {
   "cell_type": "code",
   "execution_count": 7,
   "metadata": {},
   "outputs": [
    {
     "name": "stdout",
     "output_type": "stream",
     "text": [
      "0.7099190288078919\n",
      "0.7847049239283396\n",
      "0.67993143565748\n",
      "0.7322174995883802\n",
      "0.7401263775962516\n"
     ]
    }
   ],
   "source": [
    "rmse = []\n",
    "for i in range(0,5,1):\n",
    "    X_test = X_list[i]\n",
    "    Y_test = Y_list[i]\n",
    "    X_train = []\n",
    "    Y_train = []\n",
    "    for j in range(0,5,1):\n",
    "        if j != i:\n",
    "            X_train = pd.DataFrame(X_list[j]).append(X_train)\n",
    "            Y_train = pd.DataFrame(Y_list[j]).append(Y_train)\n",
    "    vectorizer = CountVectorizer()\n",
    "    X_train = pd.DataFrame(X_train)\n",
    "    X_test = pd.DataFrame(X_test)\n",
    "    X_train = X_train.values.reshape(X_train.shape[0], )\n",
    "    X_test = X_test.values.reshape(X_test.shape[0], )\n",
    "    kmer_train = generate_kmer_multiple(X_train.tolist(), 6)\n",
    "    kmer_test = generate_kmer_multiple(X_test.tolist(), 6)\n",
    "    X_train = vectorizer.fit_transform(kmer_train).toarray()\n",
    "    X_test = vectorizer.transform(kmer_test).toarray()\n",
    "    model = create_model()\n",
    "    model.fit(X_train,Y_train,validation_split=0.1, batch_size=100,epochs=50,verbose = 0)\n",
    "    rmse.append(test_rmse(model,X_test,Y_test))\n",
    "    print(rmse[i])"
   ]
  },
  {
   "cell_type": "code",
   "execution_count": 8,
   "metadata": {},
   "outputs": [
    {
     "data": {
      "text/plain": [
       "0.7293798531156687"
      ]
     },
     "execution_count": 8,
     "metadata": {},
     "output_type": "execute_result"
    }
   ],
   "source": [
    "mean(rmse)"
   ]
  },
  {
   "cell_type": "code",
   "execution_count": 6,
   "metadata": {},
   "outputs": [],
   "source": [
    "rmse.to_csv(\"performance/MLP_full_length.csv\",index=False)"
   ]
  }
 ],
 "metadata": {
  "kernelspec": {
   "display_name": "Python 3",
   "language": "python",
   "name": "python3"
  },
  "language_info": {
   "codemirror_mode": {
    "name": "ipython",
    "version": 3
   },
   "file_extension": ".py",
   "mimetype": "text/x-python",
   "name": "python",
   "nbconvert_exporter": "python",
   "pygments_lexer": "ipython3",
   "version": "3.8.5"
  }
 },
 "nbformat": 4,
 "nbformat_minor": 4
}
